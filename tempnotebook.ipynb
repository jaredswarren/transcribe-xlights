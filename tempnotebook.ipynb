{
 "cells": [
  {
   "cell_type": "code",
   "execution_count": 1,
   "metadata": {},
   "outputs": [],
   "source": [
    "import json\n",
    "import xml.etree.ElementTree as ET\n",
    "from pathlib import Path\n",
    "from pydantic import BaseModel, validator, Field\n",
    "\n",
    "datafile = Path(\"merry20211207103305.output.json\")\n",
    "\n",
    "# Read JSON file\n",
    "with open(datafile, \"r\") as f:\n",
    "    data = json.load(f)\n",
    "\n",
    "\n",
    "class Effect(BaseModel):\n",
    "    starttime: str = Field(alias=\"start_time\")\n",
    "    endtime: str = Field(alias=\"end_time\")\n",
    "    label: str = Field(alias=\"content\")\n",
    "\n",
    "    @validator(\"starttime\", \"endtime\", pre=True)\n",
    "    def check_time(cls, v):\n",
    "        return str(int(float(v) * 1000))\n",
    "\n",
    "\n",
    "class Effects(BaseModel):\n",
    "    effects: list[Effect]\n"
   ]
  },
  {
   "cell_type": "code",
   "execution_count": 2,
   "metadata": {},
   "outputs": [],
   "source": [
    "words = []\n",
    "for i in data[\"results\"][\"items\"]:\n",
    "    if i[\"type\"] != \"pronunciation\":\n",
    "        continue\n",
    "\n",
    "    if len(words) == 0:\n",
    "            this_word = Effect(\n",
    "                content=\"\",\n",
    "                start_time=0,\n",
    "                end_time=i[\"start_time\"],\n",
    "            )\n",
    "            words.append(this_word)\n",
    "    elif words[-1].endtime != i[\"start_time\"]:\n",
    "            this_word = Effect(\n",
    "                content=\"\",\n",
    "                start_time=int(words[-1].endtime) / 1000,\n",
    "                end_time=i[\"start_time\"],\n",
    "            )\n",
    "            words.append(this_word)\n",
    "\n",
    "\n",
    "    this_word = Effect(\n",
    "        content=i[\"alternatives\"][0][\"content\"],\n",
    "        start_time=i[\"start_time\"],\n",
    "        end_time=i[\"end_time\"],\n",
    "    )\n",
    "\n",
    "\n",
    "    # print(this_word)\n",
    "    # effect = Effect(**this_word)\n",
    "    words.append(this_word)"
   ]
  },
  {
   "cell_type": "code",
   "execution_count": 3,
   "metadata": {},
   "outputs": [
    {
     "data": {
      "text/plain": [
       "262"
      ]
     },
     "execution_count": 3,
     "metadata": {},
     "output_type": "execute_result"
    }
   ],
   "source": [
    "len(words)"
   ]
  },
  {
   "cell_type": "code",
   "execution_count": 4,
   "metadata": {},
   "outputs": [
    {
     "data": {
      "text/plain": [
       "Effect(starttime='0', endtime='1340', label='')"
      ]
     },
     "execution_count": 4,
     "metadata": {},
     "output_type": "execute_result"
    }
   ],
   "source": [
    "words[0]"
   ]
  },
  {
   "cell_type": "code",
   "execution_count": 5,
   "metadata": {},
   "outputs": [
    {
     "data": {
      "text/plain": [
       "Effect(starttime='39740', endtime='39940', label='Yeah')"
      ]
     },
     "execution_count": 5,
     "metadata": {},
     "output_type": "execute_result"
    }
   ],
   "source": [
    "words[-1]"
   ]
  },
  {
   "cell_type": "code",
   "execution_count": 6,
   "metadata": {},
   "outputs": [],
   "source": [
    "effects = Effects(effects=words)"
   ]
  },
  {
   "cell_type": "markdown",
   "metadata": {},
   "source": [
    "<?xml version=\"1.0\" encoding=\"UTF-8\"?>\n",
    "<timings>\n",
    "    <timing name=\"New Timing\" SourceVersion=\"2018.4\">\n",
    "        <EffectLayer>\n",
    "            <Effect label=\"It\\'s\" startTime=\"240\" endTime=\"12270\" />"
   ]
  },
  {
   "cell_type": "code",
   "execution_count": 7,
   "metadata": {},
   "outputs": [],
   "source": [
    "root = ET.Element(\"timings\")\n",
    "timing = ET.SubElement(root, \"timing\", attrib={\"name\": \"New Timing\", \"SourceVersion\": \"2018.4\"})\n",
    "effectlayer = ET.SubElement(timing, \"EffectLayer\")\n",
    "for word in words:\n",
    "    ET.SubElement(effectlayer, \"Effect\", attrib=word.dict())"
   ]
  },
  {
   "cell_type": "code",
   "execution_count": 9,
   "metadata": {},
   "outputs": [],
   "source": [
    "tree = ET.ElementTree(root)\n",
    "tree.write(\"filename.xml\")"
   ]
  },
  {
   "cell_type": "code",
   "execution_count": 8,
   "metadata": {},
   "outputs": [
    {
     "name": "stdout",
     "output_type": "stream",
     "text": [
      "<timings><timing name=\"New Timing\" SourceVersion=\"2018.4\"><EffectLayer><Effect starttime=\"0\" endtime=\"1340\" label=\"\" /><Effect starttime=\"1340\" endtime=\"1860\" label=\"merry\" /><Effect starttime=\"1860\" endtime=\"1860\" label=\"\" /><Effect starttime=\"1860\" endtime=\"2480\" label=\"christmas\" /><Effect starttime=\"2480\" endtime=\"2480\" label=\"\" /><Effect starttime=\"2480\" endtime=\"2590\" label=\"and\" /><Effect starttime=\"2590\" endtime=\"2590\" label=\"\" /><Effect starttime=\"2590\" endtime=\"2700\" label=\"we\" /><Effect starttime=\"2700\" endtime=\"2700\" label=\"\" /><Effect starttime=\"2700\" endtime=\"2920\" label=\"hope\" /><Effect starttime=\"2920\" endtime=\"2920\" label=\"\" /><Effect starttime=\"2920\" endtime=\"3050\" label=\"you're\" /><Effect starttime=\"3050\" endtime=\"3050\" label=\"\" /><Effect starttime=\"3050\" endtime=\"3440\" label=\"enjoying\" /><Effect starttime=\"3440\" endtime=\"3440\" label=\"\" /><Effect starttime=\"3440\" endtime=\"3530\" label=\"the\" /><Effect starttime=\"3530\" endtime=\"3530\" label=\"\" /><Effect starttime=\"3530\" endtime=\"3870\" label=\"lights\" /><Effect starttime=\"3870\" endtime=\"3870\" label=\"\" /><Effect starttime=\"3870\" endtime=\"4100\" label=\"this\" /><Effect starttime=\"4100\" endtime=\"4100\" label=\"\" /><Effect starttime=\"4100\" endtime=\"4490\" label=\"evening\" /><Effect starttime=\"4490\" endtime=\"4500\" label=\"\" /><Effect starttime=\"4500\" endtime=\"5040\" label=\"We'll\" /><Effect starttime=\"5040\" endtime=\"5040\" label=\"\" /><Effect starttime=\"5040\" endtime=\"5200\" label=\"have\" /><Effect starttime=\"5200\" endtime=\"5200\" label=\"\" /><Effect starttime=\"5200\" endtime=\"5460\" label=\"another\" /><Effect starttime=\"5460\" endtime=\"5460\" label=\"\" /><Effect starttime=\"5460\" endtime=\"5820\" label=\"song\" /><Effect starttime=\"5820\" endtime=\"5820\" label=\"\" /><Effect starttime=\"5820\" endtime=\"6060\" label=\"for\" /><Effect starttime=\"6060\" endtime=\"6060\" label=\"\" /><Effect starttime=\"6060\" endtime=\"6210\" label=\"you\" /><Effect starttime=\"6210\" endtime=\"6210\" label=\"\" /><Effect starttime=\"6210\" endtime=\"6360\" label=\"in\" /><Effect starttime=\"6360\" endtime=\"6360\" label=\"\" /><Effect starttime=\"6360\" endtime=\"6670\" label=\"just\" /><Effect starttime=\"6670\" endtime=\"6670\" label=\"\" /><Effect starttime=\"6670\" endtime=\"6720\" label=\"a\" /><Effect starttime=\"6720\" endtime=\"6720\" label=\"\" /><Effect starttime=\"6720\" endtime=\"7060\" label=\"moment\" /><Effect starttime=\"7060\" endtime=\"7060\" label=\"\" /><Effect starttime=\"7060\" endtime=\"7150\" label=\"or\" /><Effect starttime=\"7150\" endtime=\"7150\" label=\"\" /><Effect starttime=\"7150\" endtime=\"7490\" label=\"so\" /><Effect starttime=\"7490\" endtime=\"7490\" label=\"\" /><Effect starttime=\"7490\" endtime=\"7720\" label=\"But\" /><Effect starttime=\"7720\" endtime=\"7730\" label=\"\" /><Effect starttime=\"7730\" endtime=\"8039\" label=\"here\" /><Effect starttime=\"8039\" endtime=\"8039\" label=\"\" /><Effect starttime=\"8039\" endtime=\"8150\" label=\"at\" /><Effect starttime=\"8150\" endtime=\"8150\" label=\"\" /><Effect starttime=\"8150\" endtime=\"8460\" label=\"Cherry\" /><Effect starttime=\"8460\" endtime=\"8460\" label=\"\" /><Effect starttime=\"8460\" endtime=\"8970\" label=\"christmas\" /><Effect starttime=\"8970\" endtime=\"8970\" label=\"\" /><Effect starttime=\"8970\" endtime=\"9070\" label=\"in\" /><Effect starttime=\"9070\" endtime=\"9070\" label=\"\" /><Effect starttime=\"9070\" endtime=\"10160\" label=\"95.9\" /><Effect starttime=\"10160\" endtime=\"10160\" label=\"\" /><Effect starttime=\"10160\" endtime=\"10600\" label=\"FM\" /><Effect starttime=\"10600\" endtime=\"10600\" label=\"\" /><Effect starttime=\"10600\" endtime=\"10910\" label=\"Three\" /><Effect starttime=\"10910\" endtime=\"10910\" label=\"\" /><Effect starttime=\"10910\" endtime=\"11250\" label=\"C's\" /><Effect starttime=\"11250\" endtime=\"11250\" label=\"\" /><Effect starttime=\"11250\" endtime=\"11870\" label=\"radio\" /><Effect starttime=\"11870\" endtime=\"11880\" label=\"\" /><Effect starttime=\"11880\" endtime=\"12400\" label=\"We\" /><Effect starttime=\"12400\" endtime=\"12400\" label=\"\" /><Effect starttime=\"12400\" endtime=\"12690\" label=\"want\" /><Effect starttime=\"12690\" endtime=\"12690\" label=\"\" /><Effect starttime=\"12690\" endtime=\"12770\" label=\"you\" /><Effect starttime=\"12770\" endtime=\"12770\" label=\"\" /><Effect starttime=\"12770\" endtime=\"12880\" label=\"to\" /><Effect starttime=\"12880\" endtime=\"12880\" label=\"\" /><Effect starttime=\"12880\" endtime=\"13090\" label=\"know\" /><Effect starttime=\"13090\" endtime=\"13090\" label=\"\" /><Effect starttime=\"13090\" endtime=\"13230\" label=\"that\" /><Effect starttime=\"13230\" endtime=\"13230\" label=\"\" /><Effect starttime=\"13230\" endtime=\"13410\" label=\"we\" /><Effect starttime=\"13410\" endtime=\"13410\" label=\"\" /><Effect starttime=\"13410\" endtime=\"14120\" label=\"appreciate\" /><Effect starttime=\"14120\" endtime=\"14120\" label=\"\" /><Effect starttime=\"14120\" endtime=\"14210\" label=\"our\" /><Effect starttime=\"14210\" endtime=\"14210\" label=\"\" /><Effect starttime=\"14210\" endtime=\"14740\" label=\"neighbors\" /><Effect starttime=\"14740\" endtime=\"14750\" label=\"\" /><Effect starttime=\"14750\" endtime=\"14860\" label=\"and\" /><Effect starttime=\"14860\" endtime=\"14860\" label=\"\" /><Effect starttime=\"14860\" endtime=\"14940\" label=\"we\" /><Effect starttime=\"14940\" endtime=\"14940\" label=\"\" /><Effect starttime=\"14940\" endtime=\"15090\" label=\"want\" /><Effect starttime=\"15090\" endtime=\"15090\" label=\"\" /><Effect starttime=\"15090\" endtime=\"15150\" label=\"to\" /><Effect starttime=\"15150\" endtime=\"15150\" label=\"\" /><Effect starttime=\"15150\" endtime=\"15420\" label=\"ask\" /><Effect starttime=\"15420\" endtime=\"15420\" label=\"\" /><Effect starttime=\"15420\" endtime=\"15520\" label=\"you\" /><Effect starttime=\"15520\" endtime=\"15520\" label=\"\" /><Effect starttime=\"15520\" endtime=\"15610\" label=\"to\" /><Effect starttime=\"15610\" endtime=\"15610\" label=\"\" /><Effect starttime=\"15610\" endtime=\"15840\" label=\"keep\" /><Effect starttime=\"15840\" endtime=\"15840\" label=\"\" /><Effect starttime=\"15840\" endtime=\"15990\" label=\"them\" /><Effect starttime=\"15990\" endtime=\"15990\" label=\"\" /><Effect starttime=\"15990\" endtime=\"16090\" label=\"in\" /><Effect starttime=\"16090\" endtime=\"16090\" label=\"\" /><Effect starttime=\"16090\" endtime=\"16510\" label=\"mind\" /><Effect starttime=\"16510\" endtime=\"16520\" label=\"\" /><Effect starttime=\"16520\" endtime=\"16990\" label=\"keep\" /><Effect starttime=\"16990\" endtime=\"16990\" label=\"\" /><Effect starttime=\"16990\" endtime=\"17130\" label=\"their\" /><Effect starttime=\"17130\" endtime=\"17130\" label=\"\" /><Effect starttime=\"17130\" endtime=\"17790\" label=\"driveways\" /><Effect starttime=\"17790\" endtime=\"17790\" label=\"\" /><Effect starttime=\"17790\" endtime=\"18060\" label=\"clear\" /><Effect starttime=\"18060\" endtime=\"18060\" label=\"\" /><Effect starttime=\"18060\" endtime=\"18170\" label=\"and\" /><Effect starttime=\"18170\" endtime=\"18170\" label=\"\" /><Effect starttime=\"18170\" endtime=\"18360\" label=\"give\" /><Effect starttime=\"18360\" endtime=\"18360\" label=\"\" /><Effect starttime=\"18360\" endtime=\"18570\" label=\"them\" /><Effect starttime=\"18570\" endtime=\"18570\" label=\"\" /><Effect starttime=\"18570\" endtime=\"18660\" label=\"the\" /><Effect starttime=\"18660\" endtime=\"18660\" label=\"\" /><Effect starttime=\"18660\" endtime=\"18890\" label=\"right\" /><Effect starttime=\"18890\" endtime=\"18890\" label=\"\" /><Effect starttime=\"18890\" endtime=\"18990\" label=\"of\" /><Effect starttime=\"18990\" endtime=\"18990\" label=\"\" /><Effect starttime=\"18990\" endtime=\"19550\" label=\"way\" /><Effect starttime=\"19550\" endtime=\"19740\" label=\"\" /><Effect starttime=\"19740\" endtime=\"20100\" label=\"make\" /><Effect starttime=\"20100\" endtime=\"20100\" label=\"\" /><Effect starttime=\"20100\" endtime=\"20320\" label=\"sure\" /><Effect starttime=\"20320\" endtime=\"20320\" label=\"\" /><Effect starttime=\"20320\" endtime=\"20830\" label=\"traffic\" /><Effect starttime=\"20830\" endtime=\"20830\" label=\"\" /><Effect starttime=\"20830\" endtime=\"20950\" label=\"and\" /><Effect starttime=\"20950\" endtime=\"20950\" label=\"\" /><Effect starttime=\"20950\" endtime=\"21250\" label=\"always\" /><Effect starttime=\"21250\" endtime=\"21250\" label=\"\" /><Effect starttime=\"21250\" endtime=\"21470\" label=\"get\" /><Effect starttime=\"21470\" endtime=\"21470\" label=\"\" /><Effect starttime=\"21470\" endtime=\"21910\" label=\"by\" /><Effect starttime=\"21910\" endtime=\"21940\" label=\"\" /><Effect starttime=\"21940\" endtime=\"22230\" label=\"Stay\" /><Effect starttime=\"22230\" endtime=\"22230\" label=\"\" /><Effect starttime=\"22230\" endtime=\"22460\" label=\"off\" /><Effect starttime=\"22460\" endtime=\"22460\" label=\"\" /><Effect starttime=\"22460\" endtime=\"22590\" label=\"of\" /><Effect starttime=\"22590\" endtime=\"22590\" label=\"\" /><Effect starttime=\"22590\" endtime=\"23070\" label=\"lawns\" /><Effect starttime=\"23070\" endtime=\"23170\" label=\"\" /><Effect starttime=\"23170\" endtime=\"23670\" label=\"dim\" /><Effect starttime=\"23670\" endtime=\"23670\" label=\"\" /><Effect starttime=\"23670\" endtime=\"23780\" label=\"your\" /><Effect starttime=\"23780\" endtime=\"23780\" label=\"\" /><Effect starttime=\"23780\" endtime=\"24200\" label=\"headlights\" /><Effect starttime=\"24200\" endtime=\"24200\" label=\"\" /><Effect starttime=\"24200\" endtime=\"24450\" label=\"down\" /><Effect starttime=\"24450\" endtime=\"24450\" label=\"\" /><Effect starttime=\"24450\" endtime=\"24520\" label=\"to\" /><Effect starttime=\"24520\" endtime=\"24520\" label=\"\" /><Effect starttime=\"24520\" endtime=\"24640\" label=\"your\" /><Effect starttime=\"24640\" endtime=\"24640\" label=\"\" /><Effect starttime=\"24640\" endtime=\"25010\" label=\"parking\" /><Effect starttime=\"25010\" endtime=\"25010\" label=\"\" /><Effect starttime=\"25010\" endtime=\"25300\" label=\"lights\" /><Effect starttime=\"25300\" endtime=\"25300\" label=\"\" /><Effect starttime=\"25300\" endtime=\"25450\" label=\"and\" /><Effect starttime=\"25450\" endtime=\"25450\" label=\"\" /><Effect starttime=\"25450\" endtime=\"25910\" label=\"please\" /><Effect starttime=\"25910\" endtime=\"25910\" label=\"\" /><Effect starttime=\"25910\" endtime=\"26140\" label=\"keep\" /><Effect starttime=\"26140\" endtime=\"26140\" label=\"\" /><Effect starttime=\"26140\" endtime=\"26280\" label=\"your\" /><Effect starttime=\"26280\" endtime=\"26280\" label=\"\" /><Effect starttime=\"26280\" endtime=\"26700\" label=\"radios\" /><Effect starttime=\"26700\" endtime=\"26700\" label=\"\" /><Effect starttime=\"26700\" endtime=\"26790\" label=\"at\" /><Effect starttime=\"26790\" endtime=\"26790\" label=\"\" /><Effect starttime=\"26790\" endtime=\"26850\" label=\"a\" /><Effect starttime=\"26850\" endtime=\"26850\" label=\"\" /><Effect starttime=\"26850\" endtime=\"27190\" label=\"level\" /><Effect starttime=\"27190\" endtime=\"27190\" label=\"\" /><Effect starttime=\"27190\" endtime=\"27260\" label=\"to\" /><Effect starttime=\"27260\" endtime=\"27260\" label=\"\" /><Effect starttime=\"27260\" endtime=\"27380\" label=\"be\" /><Effect starttime=\"27380\" endtime=\"27380\" label=\"\" /><Effect starttime=\"27380\" endtime=\"28080\" label=\"comfortable\" /><Effect starttime=\"28080\" endtime=\"28130\" label=\"\" /><Effect starttime=\"28130\" endtime=\"28400\" label=\"in\" /><Effect starttime=\"28400\" endtime=\"28400\" label=\"\" /><Effect starttime=\"28400\" endtime=\"28560\" label=\"your\" /><Effect starttime=\"28560\" endtime=\"28560\" label=\"\" /><Effect starttime=\"28560\" endtime=\"29280\" label=\"vehicle\" /><Effect starttime=\"29280\" endtime=\"29340\" label=\"\" /><Effect starttime=\"29340\" endtime=\"29760\" label=\"Let's\" /><Effect starttime=\"29760\" endtime=\"29760\" label=\"\" /><Effect starttime=\"29760\" endtime=\"29960\" label=\"make\" /><Effect starttime=\"29960\" endtime=\"29960\" label=\"\" /><Effect starttime=\"29960\" endtime=\"30140\" label=\"sure\" /><Effect starttime=\"30140\" endtime=\"30140\" label=\"\" /><Effect starttime=\"30140\" endtime=\"30510\" label=\"everyone\" /><Effect starttime=\"30510\" endtime=\"30510\" label=\"\" /><Effect starttime=\"30510\" endtime=\"30680\" label=\"has\" /><Effect starttime=\"30680\" endtime=\"30680\" label=\"\" /><Effect starttime=\"30680\" endtime=\"30760\" label=\"a\" /><Effect starttime=\"30760\" endtime=\"30760\" label=\"\" /><Effect starttime=\"30760\" endtime=\"31020\" label=\"great\" /><Effect starttime=\"31020\" endtime=\"31020\" label=\"\" /><Effect starttime=\"31020\" endtime=\"31450\" label=\"christmas\" /><Effect starttime=\"31450\" endtime=\"31450\" label=\"\" /><Effect starttime=\"31450\" endtime=\"31950\" label=\"season\" /><Effect starttime=\"31950\" endtime=\"31960\" label=\"\" /><Effect starttime=\"31960\" endtime=\"32680\" label=\"Thanks\" /><Effect starttime=\"32680\" endtime=\"32680\" label=\"\" /><Effect starttime=\"32680\" endtime=\"32870\" label=\"for\" /><Effect starttime=\"32870\" endtime=\"32870\" label=\"\" /><Effect starttime=\"32870\" endtime=\"33320\" label=\"thinking\" /><Effect starttime=\"33320\" endtime=\"33320\" label=\"\" /><Effect starttime=\"33320\" endtime=\"33450\" label=\"of\" /><Effect starttime=\"33450\" endtime=\"33450\" label=\"\" /><Effect starttime=\"33450\" endtime=\"33590\" label=\"our\" /><Effect starttime=\"33590\" endtime=\"33590\" label=\"\" /><Effect starttime=\"33590\" endtime=\"34030\" label=\"neighbors\" /><Effect starttime=\"34030\" endtime=\"34030\" label=\"\" /><Effect starttime=\"34030\" endtime=\"34170\" label=\"and\" /><Effect starttime=\"34170\" endtime=\"34170\" label=\"\" /><Effect starttime=\"34170\" endtime=\"34350\" label=\"from\" /><Effect starttime=\"34350\" endtime=\"34350\" label=\"\" /><Effect starttime=\"34350\" endtime=\"34730\" label=\"everyone\" /><Effect starttime=\"34730\" endtime=\"34730\" label=\"\" /><Effect starttime=\"34730\" endtime=\"34830\" label=\"at\" /><Effect starttime=\"34830\" endtime=\"34830\" label=\"\" /><Effect starttime=\"34830\" endtime=\"35120\" label=\"cherry\" /><Effect starttime=\"35120\" endtime=\"35120\" label=\"\" /><Effect starttime=\"35120\" endtime=\"35690\" label=\"christmas\" /><Effect starttime=\"35690\" endtime=\"35700\" label=\"\" /><Effect starttime=\"35700\" endtime=\"36130\" label=\"merry\" /><Effect starttime=\"36130\" endtime=\"36130\" label=\"\" /><Effect starttime=\"36130\" endtime=\"36750\" label=\"christmas\" /><Effect starttime=\"36750\" endtime=\"36760\" label=\"\" /><Effect starttime=\"36760\" endtime=\"36990\" label=\"and\" /><Effect starttime=\"36990\" endtime=\"36990\" label=\"\" /><Effect starttime=\"36990\" endtime=\"37110\" label=\"all\" /><Effect starttime=\"37110\" endtime=\"37110\" label=\"\" /><Effect starttime=\"37110\" endtime=\"37220\" label=\"the\" /><Effect starttime=\"37220\" endtime=\"37220\" label=\"\" /><Effect starttime=\"37220\" endtime=\"37590\" label=\"best\" /><Effect starttime=\"37590\" endtime=\"37590\" label=\"\" /><Effect starttime=\"37590\" endtime=\"37690\" label=\"in\" /><Effect starttime=\"37690\" endtime=\"37690\" label=\"\" /><Effect starttime=\"37690\" endtime=\"37780\" label=\"the\" /><Effect starttime=\"37780\" endtime=\"37780\" label=\"\" /><Effect starttime=\"37780\" endtime=\"37960\" label=\"new\" /><Effect starttime=\"37960\" endtime=\"37960\" label=\"\" /><Effect starttime=\"37960\" endtime=\"38460\" label=\"year\" /><Effect starttime=\"38460\" endtime=\"39740\" label=\"\" /><Effect starttime=\"39740\" endtime=\"39940\" label=\"Yeah\" /></EffectLayer></timing></timings>\n"
     ]
    }
   ],
   "source": [
    "ET.dump(root)"
   ]
  }
 ],
 "metadata": {
  "interpreter": {
   "hash": "05a86eb8a2d061d5d005287ee932a2651f8ac7c4f4353c2deddb2bfd0c7be8ec"
  },
  "kernelspec": {
   "display_name": "Python 3.9.7 64-bit ('transcribe-xlights-sBQthgmo': pipenv)",
   "name": "python3"
  },
  "language_info": {
   "codemirror_mode": {
    "name": "ipython",
    "version": 3
   },
   "file_extension": ".py",
   "mimetype": "text/x-python",
   "name": "python",
   "nbconvert_exporter": "python",
   "pygments_lexer": "ipython3",
   "version": "3.9.7"
  },
  "orig_nbformat": 4
 },
 "nbformat": 4,
 "nbformat_minor": 2
}
